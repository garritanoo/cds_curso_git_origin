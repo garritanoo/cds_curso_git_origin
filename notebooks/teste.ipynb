{
 "cells": [
  {
   "cell_type": "code",
   "execution_count": null,
   "metadata": {},
   "outputs": [],
   "source": [
<<<<<<< HEAD
    "print(\"Main - Linha 1\")"
=======
    "print('Dev - Célula 1')"
>>>>>>> dev
   ]
  },
  {
   "cell_type": "code",
   "execution_count": null,
   "metadata": {},
   "outputs": [],
   "source": [
<<<<<<< HEAD
    "print(\"Main - Linha 2\")"
=======
    "print('Dev - Célula 2')"
>>>>>>> dev
   ]
  },
  {
   "cell_type": "code",
   "execution_count": null,
   "metadata": {},
   "outputs": [],
   "source": [
<<<<<<< HEAD
    "print(\"Main - Linha 3\")"
=======
    "print('Dev - Célula 3')"
>>>>>>> dev
   ]
  }
 ],
 "metadata": {
  "language_info": {
   "name": "python"
  },
  "orig_nbformat": 4
 },
 "nbformat": 4,
 "nbformat_minor": 2
}
